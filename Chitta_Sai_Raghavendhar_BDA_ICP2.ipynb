{
  "nbformat": 4,
  "nbformat_minor": 0,
  "metadata": {
    "colab": {
      "provenance": []
    },
    "kernelspec": {
      "name": "python3",
      "display_name": "Python 3"
    },
    "language_info": {
      "name": "python"
    }
  },
  "cells": [
    {
      "cell_type": "code",
      "execution_count": null,
      "metadata": {
        "colab": {
          "base_uri": "https://localhost:8080/"
        },
        "id": "XbOQMdVhBJCF",
        "outputId": "6915c5d2-8968-4e1b-dddf-35584e0dc0f6"
      },
      "outputs": [
        {
          "output_type": "stream",
          "name": "stdout",
          "text": [
            "Total Employees: 4\n",
            "Average Salary: 65000.0\n",
            "Employee 1: Ganesh HR\n",
            "Fulltime Employee 1: Charan Finance\n"
          ]
        }
      ],
      "source": [
        "class Employee:\n",
        "    # Class variables\n",
        "    employee_count = 0\n",
        "    total_salary = 0\n",
        "\n",
        "    def __init__(self, name, family, salary, department):\n",
        "        self.name = name\n",
        "        self.family = family\n",
        "        self.salary = salary\n",
        "        self.department = department\n",
        "\n",
        "        # Update class variables\n",
        "        Employee.employee_count += 1\n",
        "        Employee.total_salary += salary\n",
        "\n",
        "\n",
        "    def average_salary(cls):\n",
        "        if cls.employee_count == 0:\n",
        "            return 0\n",
        "        return cls.total_salary / cls.employee_count\n",
        "\n",
        "\n",
        "# FulltimeEmployee inherits from Employee\n",
        "class FulltimeEmployee(Employee):\n",
        "    def __init__(self, name, family, salary, department):\n",
        "        super().__init__(name, family, salary, department)\n",
        "\n",
        "\n",
        "# Creating instances\n",
        "emp1 = Employee(\"Ganesh\", \"Nandamuri\", 50000, \"HR\")\n",
        "emp2 = Employee(\"Krishna\", \"Ghattamaneni\", 60000, \"IT\")\n",
        "fte1 = FulltimeEmployee(\"Charan\", \"Konidela\", 70000, \"Finance\")\n",
        "fte2 = FulltimeEmployee(\"Nagarjuna\", \"Akkineni\", 80000, \"Operations\")\n",
        "\n",
        "# Accessing data\n",
        "print(\"Total Employees:\", Employee.employee_count)\n",
        "print(\"Average Salary:\", Employee.average_salary(FulltimeEmployee))\n",
        "\n",
        "# Displaying individual details\n",
        "print(\"Employee 1:\", emp1.name, emp1.department)\n",
        "print(\"Fulltime Employee 1:\", fte1.name, fte1.department)\n"
      ]
    }
  ]
}