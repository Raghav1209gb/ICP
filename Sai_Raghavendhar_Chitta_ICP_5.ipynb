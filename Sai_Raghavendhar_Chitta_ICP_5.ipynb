{
  "nbformat": 4,
  "nbformat_minor": 0,
  "metadata": {
    "colab": {
      "provenance": [],
      "include_colab_link": true
    },
    "kernelspec": {
      "name": "python3",
      "display_name": "Python 3"
    },
    "language_info": {
      "name": "python"
    }
  },
  "cells": [
    {
      "cell_type": "markdown",
      "metadata": {
        "id": "view-in-github",
        "colab_type": "text"
      },
      "source": [
        "<a href=\"https://colab.research.google.com/github/Raghav1209gb/ICP/blob/main/Sai_Raghavendhar_Chitta_ICP_5.ipynb\" target=\"_parent\"><img src=\"https://colab.research.google.com/assets/colab-badge.svg\" alt=\"Open In Colab\"/></a>"
      ]
    },
    {
      "cell_type": "code",
      "execution_count": 1,
      "metadata": {
        "id": "nSc3IOaQNQu2",
        "colab": {
          "base_uri": "https://localhost:8080/"
        },
        "outputId": "81d24849-9210-4bec-a2fb-01094bc5996c"
      },
      "outputs": [
        {
          "output_type": "stream",
          "name": "stdout",
          "text": [
            "Best parameters found: {'classifier__C': 0.1, 'classifier__kernel': 'linear', 'pca__n_components': 3}\n",
            "Best cross-validation score: 0.96\n",
            "Test set score: 1.00\n"
          ]
        }
      ],
      "source": [
        "from sklearn.datasets import load_iris\n",
        "from sklearn.model_selection import GridSearchCV, train_test_split\n",
        "from sklearn.preprocessing import StandardScaler\n",
        "from sklearn.decomposition import PCA\n",
        "from sklearn.svm import SVC\n",
        "from sklearn.pipeline import Pipeline\n",
        "\n",
        "# 1. Load dataset\n",
        "X, y = load_iris(return_X_y=True)\n",
        "X_train, X_test, y_train, y_test = train_test_split(X, y, test_size=0.2, random_state=42)\n",
        "\n",
        "# 2. Create pipeline\n",
        "pipe = Pipeline([\n",
        "    ('scaler', StandardScaler()),\n",
        "    ('pca', PCA()),\n",
        "    ('classifier', SVC())\n",
        "])\n",
        "\n",
        "# 3. Define parameter grid\n",
        "param_grid = {\n",
        "    'pca__n_components': [2, 3],\n",
        "    'classifier__C': [0.1, 1, 10],\n",
        "    'classifier__kernel': ['linear', 'rbf']\n",
        "}\n",
        "\n",
        "# 4. GridSearchCV\n",
        "grid = GridSearchCV(pipe, param_grid)\n",
        "grid.fit(X_train, y_train)\n",
        "\n",
        "# 5. Results\n",
        "print(\"Best parameters found:\", grid.best_params_)\n",
        "print(\"Best cross-validation score: {:.2f}\".format(grid.best_score_))\n",
        "print(\"Test set score: {:.2f}\".format(grid.score(X_test, y_test)))\n"
      ]
    },
    {
      "cell_type": "markdown",
      "source": [
        "Check for 3 fold, 5 fold and 7 fold cross validation\n",
        "\n",
        "Replace classifier, SVC with RandomForestClassifier and LogisticRegression, Perceptron, knn .\n",
        "\n",
        "Update the param_grid accordingly (e.g., for RandomForestClassifier, use n_estimators, max_depth, etc.)\n",
        "\n",
        "Also replace Gridsearch with randomnsearch function.\n",
        "\n",
        "Relplace with with your own csv dataset using code below:"
      ],
      "metadata": {
        "id": "tqJp7J-jNbu6"
      }
    },
    {
      "cell_type": "code",
      "source": [
        "import pandas as pd\n",
        "from sklearn.model_selection import train_test_split, RandomizedSearchCV\n",
        "from sklearn.preprocessing import StandardScaler\n",
        "from sklearn.pipeline import Pipeline\n",
        "from sklearn.decomposition import PCA\n",
        "from sklearn.ensemble import RandomForestClassifier\n",
        "from sklearn.linear_model import LogisticRegression, Perceptron\n",
        "from sklearn.neighbors import KNeighborsClassifier\n",
        "from sklearn.metrics import accuracy_score\n",
        "\n",
        "\n",
        "#dataset\n",
        "data = pd.read_csv(\"Iris.csv\")\n",
        "X = data.drop(\"Species\", axis=1)\n",
        "y = data[\"Species\"]\n",
        "\n",
        "X_train, X_test, y_train, y_test = train_test_split(X, y, test_size=0.2, random_state=42)\n",
        "\n",
        "#Models and their parameter grids\n",
        "models = {\n",
        "    \"RandomForest\": (RandomForestClassifier(), {\n",
        "        \"classifier__n_estimators\": [50, 100, 200],\n",
        "        \"classifier__max_depth\": [None, 10, 20]\n",
        "    }),\n",
        "    \"LogisticRegression\": (LogisticRegression(max_iter=1000), {\n",
        "        \"classifier__C\": [0.1, 1, 10],\n",
        "        \"classifier__solver\": ['lbfgs']\n",
        "    }),\n",
        "    \"Perceptron\": (Perceptron(), {\n",
        "        \"classifier__alpha\": [0.0001, 0.001],\n",
        "        \"classifier__max_iter\": [500, 1000]\n",
        "    }),\n",
        "    \"KNN\": (KNeighborsClassifier(), {\n",
        "        \"classifier__n_neighbors\": [3, 5, 7],\n",
        "        \"classifier__weights\": ['uniform', 'distance']\n",
        "    })\n",
        "}\n",
        "\n",
        "#CV folds\n",
        "for model_name, (model, params) in models.items():\n",
        "    print(f\"\\n--- {model_name} ---\")\n",
        "    for cv in [3, 5, 7]:\n",
        "        pipe = Pipeline([\n",
        "            ('scaler', StandardScaler()),\n",
        "            ('pca', PCA(n_components=3)),\n",
        "            ('classifier', model)\n",
        "        ])\n",
        "        search = RandomizedSearchCV(pipe, params, n_iter=5, cv=cv, scoring='accuracy', random_state=42, n_jobs=-1)\n",
        "        search.fit(X_train, y_train)\n",
        "\n",
        "        print(f\"{cv}-Fold CV | Best Score: {search.best_score_:.2f} | Test Accuracy: {search.score(X_test, y_test):.2f}\")\n",
        "\n"
      ],
      "metadata": {
        "id": "aUipqQf8Pcao",
        "colab": {
          "base_uri": "https://localhost:8080/"
        },
        "outputId": "1a2cf5a9-1cc3-4811-c71d-93d1abb0ed3a"
      },
      "execution_count": 6,
      "outputs": [
        {
          "output_type": "stream",
          "name": "stdout",
          "text": [
            "\n",
            "--- RandomForest ---\n",
            "3-Fold CV | Best Score: 0.98 | Test Accuracy: 1.00\n",
            "5-Fold CV | Best Score: 0.98 | Test Accuracy: 1.00\n",
            "7-Fold CV | Best Score: 0.99 | Test Accuracy: 1.00\n",
            "\n",
            "--- LogisticRegression ---\n",
            "3-Fold CV | Best Score: 1.00 | Test Accuracy: 1.00\n"
          ]
        },
        {
          "output_type": "stream",
          "name": "stderr",
          "text": [
            "/usr/local/lib/python3.11/dist-packages/sklearn/model_selection/_search.py:317: UserWarning: The total space of parameters 3 is smaller than n_iter=5. Running 3 iterations. For exhaustive searches, use GridSearchCV.\n",
            "  warnings.warn(\n",
            "/usr/local/lib/python3.11/dist-packages/sklearn/model_selection/_search.py:317: UserWarning: The total space of parameters 3 is smaller than n_iter=5. Running 3 iterations. For exhaustive searches, use GridSearchCV.\n",
            "  warnings.warn(\n"
          ]
        },
        {
          "output_type": "stream",
          "name": "stdout",
          "text": [
            "5-Fold CV | Best Score: 1.00 | Test Accuracy: 1.00\n"
          ]
        },
        {
          "output_type": "stream",
          "name": "stderr",
          "text": [
            "/usr/local/lib/python3.11/dist-packages/sklearn/model_selection/_search.py:317: UserWarning: The total space of parameters 3 is smaller than n_iter=5. Running 3 iterations. For exhaustive searches, use GridSearchCV.\n",
            "  warnings.warn(\n"
          ]
        },
        {
          "output_type": "stream",
          "name": "stdout",
          "text": [
            "7-Fold CV | Best Score: 1.00 | Test Accuracy: 1.00\n",
            "\n",
            "--- Perceptron ---\n",
            "3-Fold CV | Best Score: 0.88 | Test Accuracy: 1.00\n"
          ]
        },
        {
          "output_type": "stream",
          "name": "stderr",
          "text": [
            "/usr/local/lib/python3.11/dist-packages/sklearn/model_selection/_search.py:317: UserWarning: The total space of parameters 4 is smaller than n_iter=5. Running 4 iterations. For exhaustive searches, use GridSearchCV.\n",
            "  warnings.warn(\n",
            "/usr/local/lib/python3.11/dist-packages/sklearn/model_selection/_search.py:317: UserWarning: The total space of parameters 4 is smaller than n_iter=5. Running 4 iterations. For exhaustive searches, use GridSearchCV.\n",
            "  warnings.warn(\n"
          ]
        },
        {
          "output_type": "stream",
          "name": "stdout",
          "text": [
            "5-Fold CV | Best Score: 0.87 | Test Accuracy: 1.00\n"
          ]
        },
        {
          "output_type": "stream",
          "name": "stderr",
          "text": [
            "/usr/local/lib/python3.11/dist-packages/sklearn/model_selection/_search.py:317: UserWarning: The total space of parameters 4 is smaller than n_iter=5. Running 4 iterations. For exhaustive searches, use GridSearchCV.\n",
            "  warnings.warn(\n"
          ]
        },
        {
          "output_type": "stream",
          "name": "stdout",
          "text": [
            "7-Fold CV | Best Score: 0.84 | Test Accuracy: 1.00\n",
            "\n",
            "--- KNN ---\n",
            "3-Fold CV | Best Score: 0.99 | Test Accuracy: 1.00\n",
            "5-Fold CV | Best Score: 0.99 | Test Accuracy: 1.00\n",
            "7-Fold CV | Best Score: 0.99 | Test Accuracy: 1.00\n"
          ]
        }
      ]
    }
  ]
}